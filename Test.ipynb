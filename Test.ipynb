{
 "cells": [
  {
   "cell_type": "code",
   "execution_count": 3,
   "metadata": {},
   "outputs": [
    {
     "name": "stdout",
     "output_type": "stream",
     "text": [
      "Metadata:\n",
      "title: ['Take Me Back To LA']\n",
      "label: ['P.M.E.D.I.A']\n",
      "tracknumber: ['15']\n",
      "album: ['Hurry Up Tomorrow']\n",
      "albumartist: ['The Weeknd']\n",
      "date: ['2025-01-31']\n",
      "tracktotal: ['22']\n",
      "composer: ['The Weeknd']\n",
      "genre: ['Soul, Funk, R&B']\n",
      "copyright: ['PMEDIA']\n",
      "artist: ['The Weeknd']\n",
      "\n",
      "Audio Properties:\n",
      "Duration (seconds): 253.73497732426304\n",
      "Bitrate: 2843939 bps\n"
     ]
    }
   ],
   "source": [
    "from mutagen import File\n",
    "\n",
    "# Load the audio file (supports multiple formats)\n",
    "file_path = r\"C:\\Users\\karan\\Downloads\\The Weeknd - Hurry Up Tomorrow (2025) [24Bit-88.2kHz] FLAC [PMEDIA] ⭐️\\15. Take Me Back To LA.flac\"  # Change the file name and format as needed\n",
    "audio_file = File(file_path)\n",
    "\n",
    "# Fetch basic metadata (common tags like title, artist, album, etc.)\n",
    "if audio_file:\n",
    "    print(\"Metadata:\")\n",
    "    for key, value in audio_file.tags.items():\n",
    "        print(f\"{key}: {value}\")\n",
    "\n",
    "    # Fetch audio file properties\n",
    "    print(\"\\nAudio Properties:\")\n",
    "    print(f\"Duration (seconds): {audio_file.info.length}\")\n",
    "    print(f\"Bitrate: {audio_file.info.bitrate} bps\")\n",
    "\n",
    "else:\n",
    "    print(\"Failed to read audio file. Make sure the file format is supported.\")"
   ]
  },
  {
   "cell_type": "code",
   "execution_count": 4,
   "metadata": {},
   "outputs": [
    {
     "name": "stdout",
     "output_type": "stream",
     "text": [
      "{\n",
      "    \"41c92e1b-7b43-4d13-8404-c0d347d33879\": {\n",
      "        \"title\": \"Take Me Back To LA\",\n",
      "        \"label\": \"P.M.E.D.I.A\",\n",
      "        \"tracknumber\": \"15\",\n",
      "        \"album\": \"Hurry Up Tomorrow\",\n",
      "        \"albumartist\": \"The Weeknd\",\n",
      "        \"date\": \"2025-01-31\",\n",
      "        \"tracktotal\": \"22\",\n",
      "        \"composer\": \"The Weeknd\",\n",
      "        \"genre\": \"Soul, Funk, R&B\",\n",
      "        \"copyright\": \"PMEDIA\",\n",
      "        \"artist\": \"The Weeknd\",\n",
      "        \"duration_seconds\": 253.73,\n",
      "        \"bitrate\": 2843939\n",
      "    }\n",
      "}\n"
     ]
    }
   ],
   "source": [
    "import uuid\n",
    "import json\n",
    "from mutagen import File\n",
    "\n",
    "def fetch_music_metadata(file_path):\n",
    "    # Generate a unique identifier\n",
    "    file_uuid = str(uuid.uuid4())\n",
    "    \n",
    "    # Load the audio file and read metadata\n",
    "    audio_file = File(file_path)\n",
    "\n",
    "    # Initialize metadata dictionary\n",
    "    metadata = {}\n",
    "\n",
    "    if audio_file and audio_file.tags:\n",
    "        # Extract metadata key-value pairs\n",
    "        for key, value in audio_file.tags.items():\n",
    "            # Some values may be lists; join them if needed\n",
    "            metadata[key] = str(value) if not isinstance(value, list) else ', '.join(map(str, value))\n",
    "\n",
    "        # Add audio file properties\n",
    "        metadata[\"duration_seconds\"] = round(audio_file.info.length, 2) if hasattr(audio_file.info, \"length\") else None\n",
    "        metadata[\"bitrate\"] = audio_file.info.bitrate if hasattr(audio_file.info, \"bitrate\") else None\n",
    "\n",
    "    else:\n",
    "        metadata[\"error\"] = \"No metadata found or unsupported file format\"\n",
    "\n",
    "    # Create the final JSON structure\n",
    "    result = {\n",
    "        file_uuid: metadata\n",
    "    }\n",
    "\n",
    "    # Convert the result to a JSON string and return\n",
    "    return json.dumps(result, indent=4)\n",
    "\n",
    "# Example usage\n",
    "file_path = r\"C:\\Users\\karan\\Downloads\\The Weeknd - Hurry Up Tomorrow (2025) [24Bit-88.2kHz] FLAC [PMEDIA] ⭐️\\15. Take Me Back To LA.flac\"  # Change the file name and format as needed\n",
    "metadata_json = fetch_music_metadata(file_path)\n",
    "print(metadata_json)"
   ]
  },
  {
   "cell_type": "code",
   "execution_count": null,
   "metadata": {},
   "outputs": [],
   "source": []
  }
 ],
 "metadata": {
  "kernelspec": {
   "display_name": "Python 3",
   "language": "python",
   "name": "python3"
  },
  "language_info": {
   "codemirror_mode": {
    "name": "ipython",
    "version": 3
   },
   "file_extension": ".py",
   "mimetype": "text/x-python",
   "name": "python",
   "nbconvert_exporter": "python",
   "pygments_lexer": "ipython3",
   "version": "3.12.1"
  }
 },
 "nbformat": 4,
 "nbformat_minor": 2
}
