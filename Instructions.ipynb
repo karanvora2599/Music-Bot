{
 "cells": [
  {
   "cell_type": "code",
   "execution_count": null,
   "metadata": {},
   "outputs": [],
   "source": [
    "\"\"\"\n",
    "Extracts metadata from music files and stores it in a JSON file.\n",
    "POST /extract\n",
    "\n",
    "Example Request using curl:\n",
    "\"\"\" \n",
    "\n",
    "!curl -X POST \"http://localhost:8000/extract\" \\\n",
    "     -H \"Content-Type: application/json\" \\\n",
    "     -d '{\n",
    "           \"input_path\": \"/path/to/music\",\n",
    "           \"json_file\": \"/path/to/output.json\",\n",
    "           \"max_workers\": 16\n",
    "         }'\n",
    "# The output will be stored in the file specified in the json_file field.\n",
    "{\n",
    "  \"job_id\": \"a2b3c4d5-e6f7-8901-2345-6789abcdef01\",\n",
    "  \"status\": \"pending\"\n",
    "}\n"
   ]
  },
  {
   "cell_type": "code",
   "execution_count": 7,
   "metadata": {},
   "outputs": [
    {
     "name": "stderr",
     "output_type": "stream",
     "text": [
      "'curl' is not recognized as an internal or external command,\n",
      "operable program or batch file.\n"
     ]
    }
   ],
   "source": [
    "\"\"\"\n",
    "Check the status of the job.\n",
    "GET /status/{job_id}\n",
    "\n",
    "Example Request using curl:\n",
    "\"\"\"\n",
    "!curl -X GET \"http://localhost:8000/status/a2b3c4d5-e6f7-8901-2345-6789abcdef01\"\n",
    "\n",
    "# The output will be:\n",
    "#While the Job Is Still Running:\n",
    "{\n",
    "  \"job_id\": \"a2b3c4d5-e6f7-8901-2345-6789abcdef01\",\n",
    "  \"status\": \"running\",\n",
    "  \"elapsed_time\": null,\n",
    "  \"error\": null\n",
    "}\n",
    "\n",
    "#When the Job Has Completed Successfully:\n",
    "{\n",
    "  \"job_id\": \"a2b3c4d5-e6f7-8901-2345-6789abcdef01\",\n",
    "  \"status\": \"completed\",\n",
    "  \"elapsed_time\": 123.45,\n",
    "  \"error\": null\n",
    "}\n",
    "\n",
    "#If the Job Failed:\n",
    "{\n",
    "  \"job_id\": \"a2b3c4d5-e6f7-8901-2345-6789abcdef01\",\n",
    "  \"status\": \"failed\",\n",
    "  \"elapsed_time\": null,\n",
    "  \"error\": \"Detailed error message here.\"\n",
    "}"
   ]
  }
 ],
 "metadata": {
  "kernelspec": {
   "display_name": "Python 3",
   "language": "python",
   "name": "python3"
  },
  "language_info": {
   "codemirror_mode": {
    "name": "ipython",
    "version": 3
   },
   "file_extension": ".py",
   "mimetype": "text/x-python",
   "name": "python",
   "nbconvert_exporter": "python",
   "pygments_lexer": "ipython3",
   "version": "3.12.1"
  }
 },
 "nbformat": 4,
 "nbformat_minor": 2
}
